{
 "cells": [
  {
   "cell_type": "code",
   "execution_count": 28,
   "id": "603ff196-e284-41d4-9dd4-3055b870a941",
   "metadata": {},
   "outputs": [],
   "source": [
    "import pandas as pd\n",
    "from sklearn.model_selection import train_test_split\n",
    "from sklearn.compose import ColumnTransformer\n",
    "from sklearn.preprocessing import StandardScaler, OneHotEncoder\n",
    "from sklearn.linear_model import LinearRegression, Ridge, Lasso\n",
    "from sklearn.ensemble import VotingRegressor, BaggingRegressor\n",
    "from sklearn.metrics import mean_squared_error, r2_score\n",
    "from sklearn.ensemble import AdaBoostRegressor\n",
    "from sklearn.tree import DecisionTreeRegressor"
   ]
  },
  {
   "cell_type": "code",
   "execution_count": 30,
   "id": "7685a04f-5f48-4a18-b296-bd566c57d4a6",
   "metadata": {},
   "outputs": [],
   "source": [
    "# Load the dataset\n",
    "data = pd.read_csv('data.csv')"
   ]
  },
  {
   "cell_type": "code",
   "execution_count": 32,
   "id": "f563d586-77bc-4371-86e3-b2374370efe6",
   "metadata": {},
   "outputs": [
    {
     "data": {
      "text/html": [
       "<div>\n",
       "<style scoped>\n",
       "    .dataframe tbody tr th:only-of-type {\n",
       "        vertical-align: middle;\n",
       "    }\n",
       "\n",
       "    .dataframe tbody tr th {\n",
       "        vertical-align: top;\n",
       "    }\n",
       "\n",
       "    .dataframe thead th {\n",
       "        text-align: right;\n",
       "    }\n",
       "</style>\n",
       "<table border=\"1\" class=\"dataframe\">\n",
       "  <thead>\n",
       "    <tr style=\"text-align: right;\">\n",
       "      <th></th>\n",
       "      <th>Date</th>\n",
       "      <th>Product Name</th>\n",
       "      <th>Category</th>\n",
       "      <th>Units Sold</th>\n",
       "      <th>Price</th>\n",
       "      <th>Revenue</th>\n",
       "      <th>Discount</th>\n",
       "      <th>Units Returned</th>\n",
       "      <th>Location</th>\n",
       "      <th>Platform</th>\n",
       "    </tr>\n",
       "  </thead>\n",
       "  <tbody>\n",
       "    <tr>\n",
       "      <th>0</th>\n",
       "      <td>2020-01-06</td>\n",
       "      <td>Whey Protein</td>\n",
       "      <td>Protein</td>\n",
       "      <td>143</td>\n",
       "      <td>31.98</td>\n",
       "      <td>4573.14</td>\n",
       "      <td>0.03</td>\n",
       "      <td>2</td>\n",
       "      <td>Canada</td>\n",
       "      <td>Walmart</td>\n",
       "    </tr>\n",
       "    <tr>\n",
       "      <th>1</th>\n",
       "      <td>2020-01-06</td>\n",
       "      <td>Vitamin C</td>\n",
       "      <td>Vitamin</td>\n",
       "      <td>139</td>\n",
       "      <td>42.51</td>\n",
       "      <td>5908.89</td>\n",
       "      <td>0.04</td>\n",
       "      <td>0</td>\n",
       "      <td>UK</td>\n",
       "      <td>Amazon</td>\n",
       "    </tr>\n",
       "    <tr>\n",
       "      <th>2</th>\n",
       "      <td>2020-01-06</td>\n",
       "      <td>Fish Oil</td>\n",
       "      <td>Omega</td>\n",
       "      <td>161</td>\n",
       "      <td>12.91</td>\n",
       "      <td>2078.51</td>\n",
       "      <td>0.25</td>\n",
       "      <td>0</td>\n",
       "      <td>Canada</td>\n",
       "      <td>Amazon</td>\n",
       "    </tr>\n",
       "    <tr>\n",
       "      <th>3</th>\n",
       "      <td>2020-01-06</td>\n",
       "      <td>Multivitamin</td>\n",
       "      <td>Vitamin</td>\n",
       "      <td>140</td>\n",
       "      <td>16.07</td>\n",
       "      <td>2249.80</td>\n",
       "      <td>0.08</td>\n",
       "      <td>0</td>\n",
       "      <td>Canada</td>\n",
       "      <td>Walmart</td>\n",
       "    </tr>\n",
       "    <tr>\n",
       "      <th>4</th>\n",
       "      <td>2020-01-06</td>\n",
       "      <td>Pre-Workout</td>\n",
       "      <td>Performance</td>\n",
       "      <td>157</td>\n",
       "      <td>35.47</td>\n",
       "      <td>5568.79</td>\n",
       "      <td>0.25</td>\n",
       "      <td>3</td>\n",
       "      <td>Canada</td>\n",
       "      <td>iHerb</td>\n",
       "    </tr>\n",
       "  </tbody>\n",
       "</table>\n",
       "</div>"
      ],
      "text/plain": [
       "         Date  Product Name     Category  Units Sold  Price  Revenue  \\\n",
       "0  2020-01-06  Whey Protein      Protein         143  31.98  4573.14   \n",
       "1  2020-01-06     Vitamin C      Vitamin         139  42.51  5908.89   \n",
       "2  2020-01-06      Fish Oil        Omega         161  12.91  2078.51   \n",
       "3  2020-01-06  Multivitamin      Vitamin         140  16.07  2249.80   \n",
       "4  2020-01-06   Pre-Workout  Performance         157  35.47  5568.79   \n",
       "\n",
       "   Discount  Units Returned Location Platform  \n",
       "0      0.03               2   Canada  Walmart  \n",
       "1      0.04               0       UK   Amazon  \n",
       "2      0.25               0   Canada   Amazon  \n",
       "3      0.08               0   Canada  Walmart  \n",
       "4      0.25               3   Canada    iHerb  "
      ]
     },
     "execution_count": 32,
     "metadata": {},
     "output_type": "execute_result"
    }
   ],
   "source": [
    "data.head()"
   ]
  },
  {
   "cell_type": "code",
   "execution_count": 34,
   "id": "7d1bab49-1e00-4f1f-9c07-58e3f87a67b0",
   "metadata": {},
   "outputs": [],
   "source": [
    "# Extract year and month from Date\n",
    "data['Date'] = pd.to_datetime(data['Date'])\n",
    "data['Year'] = data['Date'].dt.year\n",
    "data['Month'] = data['Date'].dt.month\n",
    "\n",
    "# Drop unnecessary columns\n",
    "data = data.drop(columns=['Product Name', 'Date'])\n",
    "\n",
    "# Define features and target\n",
    "numerical_cols = ['Units Sold', 'Price', 'Discount', 'Units Returned', 'Year', 'Month']\n",
    "categorical_cols = ['Category', 'Location', 'Platform']\n",
    "features = numerical_cols + categorical_cols\n",
    "target = 'Revenue'\n",
    "\n",
    "# Split features and target\n",
    "X = data[features]\n",
    "y = data[target]"
   ]
  },
  {
   "cell_type": "code",
   "execution_count": 36,
   "id": "25498f74-6375-4e96-ad8d-2d9f95d83ab1",
   "metadata": {},
   "outputs": [],
   "source": [
    "# Preprocessing: One-hot encode categorical variables and scale numerical variables\n",
    "preprocessor = ColumnTransformer(\n",
    "    transformers=[\n",
    "        ('num', StandardScaler(), numerical_cols),\n",
    "        ('cat', OneHotEncoder(drop='first', sparse_output=False), categorical_cols)\n",
    "    ])\n",
    "\n",
    "# Split data into training and testing sets\n",
    "X_train, X_test, y_train, y_test = train_test_split(X, y, test_size=0.2, random_state=42)\n",
    "\n",
    "# Apply preprocessing\n",
    "X_train = preprocessor.fit_transform(X_train)\n",
    "X_test = preprocessor.transform(X_test)\n",
    "\n",
    "# Get feature names after one-hot encoding\n",
    "cat_encoder = preprocessor.named_transformers_['cat']\n",
    "cat_feature_names = cat_encoder.get_feature_names_out(categorical_cols)\n",
    "feature_names = numerical_cols + list(cat_feature_names)\n",
    "\n",
    "# Convert processed data to DataFrame for easier handling\n",
    "X_train = pd.DataFrame(X_train, columns=feature_names)\n",
    "X_test = pd.DataFrame(X_test, columns=feature_names)"
   ]
  },
  {
   "cell_type": "code",
   "execution_count": 38,
   "id": "8568a8ff-1d61-4135-9aa0-815ced56b419",
   "metadata": {},
   "outputs": [
    {
     "name": "stdout",
     "output_type": "stream",
     "text": [
      " Base LR - MSE: 28927.00, R²: 0.9937\n"
     ]
    }
   ],
   "source": [
    "# Initialize base linear regression model\n",
    "base_lr = LinearRegression()\n",
    "base_lr.fit(X_train,y_train)\n",
    "\n",
    "y_pred_lr = base_lr.predict(X_test)\n",
    "mse_lr = mean_squared_error(y_test, y_pred_lr)\n",
    "r2_lr = r2_score(y_test, y_pred_lr)\n",
    "print(f\" Base LR - MSE: {mse_lr:.2f}, R²: {r2_lr:.4f}\")\n",
    "\n"
   ]
  },
  {
   "cell_type": "code",
   "execution_count": 40,
   "id": "71058ead-33ee-495c-84ee-418902447d61",
   "metadata": {},
   "outputs": [
    {
     "name": "stdout",
     "output_type": "stream",
     "text": [
      "📊 Voting Regressor - MSE: 28923.44, R²: 0.9937\n"
     ]
    }
   ],
   "source": [
    "# Initialize ensemble models\n",
    "ridge = Ridge(alpha=1.0)\n",
    "lasso = Lasso(alpha=0.1)\n",
    "\n",
    "voting_model = VotingRegressor(estimators=[\n",
    "    ('base_lr', base_lr),\n",
    "    ('ridge', ridge),\n",
    "    ('lasso', lasso)\n",
    "])\n",
    "\n",
    "voting_model.fit(X_train, y_train)\n",
    "y_pred_voting = voting_model.predict(X_test)\n",
    "\n",
    "mse_voting = mean_squared_error(y_test, y_pred_voting)\n",
    "r2_voting = r2_score(y_test, y_pred_voting)\n",
    "\n",
    "print(f\"📊 Voting Regressor - MSE: {mse_voting:.2f}, R²: {r2_voting:.4f}\")\n"
   ]
  },
  {
   "cell_type": "code",
   "execution_count": 42,
   "id": "7c2ffc0e-e153-403b-8ae8-cbd61c56a208",
   "metadata": {},
   "outputs": [
    {
     "name": "stdout",
     "output_type": "stream",
     "text": [
      "📦 Bagging Regressor - MSE: 29009.94, R²: 0.9937\n"
     ]
    }
   ],
   "source": [
    "# ----- Bagging Regressor -----\n",
    "bagging_model = BaggingRegressor(\n",
    "    estimator=LinearRegression(),\n",
    "    n_estimators=10,\n",
    "    max_samples=0.8,\n",
    "    random_state=42\n",
    ")\n",
    "\n",
    "bagging_model.fit(X_train, y_train)\n",
    "y_pred_bagging = bagging_model.predict(X_test)\n",
    "\n",
    "mse_bagging = mean_squared_error(y_test, y_pred_bagging)\n",
    "r2_bagging = r2_score(y_test, y_pred_bagging)\n",
    "\n",
    "print(f\"📦 Bagging Regressor - MSE: {mse_bagging:.2f}, R²: {r2_bagging:.4f}\")"
   ]
  },
  {
   "cell_type": "code",
   "execution_count": 44,
   "id": "74438d08-1aab-4ba6-8f71-1db516ea430a",
   "metadata": {},
   "outputs": [
    {
     "name": "stdout",
     "output_type": "stream",
     "text": [
      "⚡ AdaBoost (Linear Regression base) - MSE: 29078.31, R²: 0.9937\n"
     ]
    }
   ],
   "source": [
    "# AdaBoost using LinearRegression as weak learner\n",
    "ada_lin = AdaBoostRegressor(\n",
    "    estimator=LinearRegression(),\n",
    "    n_estimators=50,\n",
    "    learning_rate=0.5,\n",
    "    random_state=42\n",
    ")\n",
    "\n",
    "ada_lin.fit(X_train, y_train)\n",
    "y_pred_ada_lin = ada_lin.predict(X_test)\n",
    "\n",
    "# Evaluate\n",
    "mse_ada_lin = mean_squared_error(y_test, y_pred_ada_lin)\n",
    "r2_ada_lin = r2_score(y_test, y_pred_ada_lin)\n",
    "\n",
    "print(f\"⚡ AdaBoost (Linear Regression base) - MSE: {mse_ada_lin:.2f}, R²: {r2_ada_lin:.4f}\")"
   ]
  },
  {
   "cell_type": "code",
   "execution_count": 46,
   "id": "2ab2e2fd-8a2b-4655-8ac3-880b712e245e",
   "metadata": {},
   "outputs": [
    {
     "name": "stdout",
     "output_type": "stream",
     "text": [
      "Linear Regression:\n",
      "  Mean Squared Error: 28927.00\n",
      "  R² Score: 0.99\n",
      "Bagging:\n",
      "  Mean Squared Error: 29009.94\n",
      "  R² Score: 0.99\n",
      "AdaBoost:\n",
      "  Mean Squared Error: 29078.31\n",
      "  R² Score: 0.99\n",
      "Voting:\n",
      "  Mean Squared Error: 28923.44\n",
      "  R² Score: 0.99\n"
     ]
    }
   ],
   "source": [
    "# Evaluate models\n",
    "models = {\n",
    "    'Linear Regression': y_pred_lr,\n",
    "    'Bagging': y_pred_bagging,\n",
    "    'AdaBoost': y_pred_ada_lin,\n",
    "    'Voting': y_pred_voting\n",
    "}\n",
    "r2_scores = {}\n",
    "for name, y_pred in models.items():\n",
    "    mse = mean_squared_error(y_test, y_pred)\n",
    "    r2 = r2_score(y_test, y_pred)\n",
    "    r2_scores[name] = r2\n",
    "    print(f\"{name}:\")\n",
    "    print(f\"  Mean Squared Error: {mse:.2f}\")\n",
    "    print(f\"  R² Score: {r2:.2f}\")\n",
    "\n",
    "# --- Generate Data for Figures ---\n"
   ]
  },
  {
   "cell_type": "code",
   "execution_count": 48,
   "id": "7b77d4d4-d9e1-4398-b4b8-467650c02310",
   "metadata": {},
   "outputs": [
    {
     "name": "stdout",
     "output_type": "stream",
     "text": [
      "Ensemble Model Performance:\n",
      "MSE: 9260.438736271759\n",
      "R² Score: 0.997995267472155\n"
     ]
    }
   ],
   "source": [
    "dt_model = DecisionTreeRegressor(random_state=42)\n",
    "\n",
    "# Combine into ensemble\n",
    "ensemble_model = VotingRegressor(estimators=[\n",
    "    ('base_lr', base_lr),\n",
    "    ('dt', dt_model)\n",
    "])\n",
    "\n",
    "# Train ensemble model\n",
    "ensemble_model.fit(X_train, y_train)\n",
    "\n",
    "# Predict and evaluate\n",
    "y_pred_ensemble = ensemble_model.predict(X_test)\n",
    "mse_ensemble = mean_squared_error(y_test, y_pred_ensemble)\n",
    "r2_ensemble = r2_score(y_test, y_pred_ensemble)\n",
    "\n",
    "# Print metrics\n",
    "print(\"Ensemble Model Performance:\")\n",
    "print(\"MSE:\", mse_ensemble)\n",
    "print(\"R² Score:\", r2_ensemble)"
   ]
  },
  {
   "cell_type": "code",
   "execution_count": null,
   "id": "99924d40-c3b6-4301-9eec-ae7198910b71",
   "metadata": {},
   "outputs": [],
   "source": []
  }
 ],
 "metadata": {
  "kernelspec": {
   "display_name": "Python [conda env:base] *",
   "language": "python",
   "name": "conda-base-py"
  },
  "language_info": {
   "codemirror_mode": {
    "name": "ipython",
    "version": 3
   },
   "file_extension": ".py",
   "mimetype": "text/x-python",
   "name": "python",
   "nbconvert_exporter": "python",
   "pygments_lexer": "ipython3",
   "version": "3.12.7"
  }
 },
 "nbformat": 4,
 "nbformat_minor": 5
}
